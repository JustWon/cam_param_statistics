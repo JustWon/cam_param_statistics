{
 "cells": [
  {
   "cell_type": "code",
   "execution_count": 3,
   "metadata": {
    "collapsed": true
   },
   "outputs": [],
   "source": [
    "import numpy as np"
   ]
  },
  {
   "cell_type": "code",
   "execution_count": 4,
   "metadata": {},
   "outputs": [],
   "source": [
    "T_mat = np.loadtxt('T_matrix.txt')"
   ]
  },
  {
   "cell_type": "code",
   "execution_count": 20,
   "metadata": {},
   "outputs": [
    {
     "name": "stdout",
     "output_type": "stream",
     "text": [
      "[[ -510.33553162  -241.09591225  4411.78751762]\n",
      " [ -495.72889592  -229.72650424  4375.65569791]\n",
      " [ -488.15203643  -250.1285622   4373.08034397]\n",
      " [ -570.60888909  -293.69903355  4361.45011979]\n",
      " [ -504.5192219   -186.22958154  4361.33716537]\n",
      " [ -553.40973744  -268.57752172  4367.73454444]\n",
      " [ -624.85422292  -187.66464072  4316.26040565]\n",
      " [ -578.06486823  -197.74475838  4340.05149493]\n",
      " [ -581.22315451  -198.07196139  4302.36966634]\n",
      " [ -607.74515017  -191.32937149  4320.08679852]\n",
      " [ -542.50937372  -206.25177821  4287.57144398]\n",
      " [ -635.70187764  -232.00454283  4276.00735381]\n",
      " [ -594.80600542  -206.31772397  4261.38640202]\n",
      " [ -608.19492951  -193.58681249  4230.81440415]\n",
      " [ -641.77743518  -220.97990394  4228.70851773]\n",
      " [ -618.54860214  -186.72538058  4218.44580459]\n",
      " [ -566.72660432  -202.93738094  4213.95839307]\n",
      " [ -566.72660432  -202.93738094  4213.95839307]]\n"
     ]
    }
   ],
   "source": [
    "T_mat_list = []\n",
    "\n",
    "for idx in range(0,len(T_mat),3):\n",
    "#     print(idx, T_mat[idx])\n",
    "#     print(idx+1, T_mat[idx+1])\n",
    "#     print(idx+2, T_mat[idx+2])\n",
    "    T_mat_list.append([T_mat[idx], T_mat[idx+1], T_mat[idx+2]])\n",
    "\n",
    "print(np.array(T_mat_list))"
   ]
  },
  {
   "cell_type": "code",
   "execution_count": 6,
   "metadata": {},
   "outputs": [],
   "source": [
    "T_x_mat_list = []\n",
    "T_y_mat_list = []\n",
    "T_z_mat_list = []\n",
    "\n",
    "for t_vec in T_mat_list:\n",
    "    T_x_mat_list.append(t_vec[0])\n",
    "    T_y_mat_list.append(t_vec[1])\n",
    "    T_z_mat_list.append(t_vec[2])"
   ]
  },
  {
   "cell_type": "code",
   "execution_count": 17,
   "metadata": {
    "scrolled": false
   },
   "outputs": [
    {
     "name": "stdout",
     "output_type": "stream",
     "text": [
      "X\n"
     ]
    },
    {
     "data": {
      "image/png": "[encoded data removed]",
      "text/plain": [
       "<matplotlib.figure.Figure at 0x11706ad68>"
      ]
     },
     "metadata": {},
     "output_type": "display_data"
    },
    {
     "name": "stdout",
     "output_type": "stream",
     "text": [
      "mean: -571.646285583\n",
      "std: 46.8990834533\n",
      "\n",
      "Y\n"
     ]
    },
    {
     "data": {
      "image/png": "[encoded data removed]",
      "text/plain": [
       "<matplotlib.figure.Figure at 0x117646da0>"
      ]
     },
     "metadata": {},
     "output_type": "display_data"
    },
    {
     "name": "stdout",
     "output_type": "stream",
     "text": [
      "mean: -216.444930632\n",
      "std: 29.7244465074\n",
      "\n",
      "Z\n"
     ]
    },
    {
     "data": {
      "image/png": "[encoded data removed]",
      "text/plain": [
       "<matplotlib.figure.Figure at 0x11739f160>"
      ]
     },
     "metadata": {},
     "output_type": "display_data"
    },
    {
     "name": "stdout",
     "output_type": "stream",
     "text": [
      "mean: 4303.37024816\n",
      "std: 62.9409417564\n"
     ]
    }
   ],
   "source": [
    "import matplotlib.pyplot as plt\n",
    "\n",
    "print('X')\n",
    "plt.plot(T_x_mat_list)\n",
    "plt.ylim([1000,-1000])\n",
    "plt.show()\n",
    "print('mean:' , np.mean(T_x_mat_list))\n",
    "print('std:' ,np.std(T_x_mat_list))\n",
    "\n",
    "print('\\nY')\n",
    "plt.plot(T_y_mat_list)\n",
    "plt.ylim([1000,-1000])\n",
    "plt.show()\n",
    "print('mean:' , np.mean(T_y_mat_list))\n",
    "print('std:' ,np.std(T_y_mat_list))\n",
    "\n",
    "print('\\nZ')\n",
    "plt.plot(T_z_mat_list)\n",
    "plt.ylim([0,5000])\n",
    "plt.show()\n",
    "print('mean:' , np.mean(T_z_mat_list))\n",
    "print('std:' ,np.std(T_z_mat_list))"
   ]
  },
  {
   "cell_type": "code",
   "execution_count": null,
   "metadata": {
    "collapsed": true
   },
   "outputs": [],
   "source": []
  }
 ],
 "metadata": {
  "kernelspec": {
   "display_name": "Python 3",
   "language": "python",
   "name": "python3"
  },
  "language_info": {
   "codemirror_mode": {
    "name": "ipython",
    "version": 3
   },
   "file_extension": ".py",
   "mimetype": "text/x-python",
   "name": "python",
   "nbconvert_exporter": "python",
   "pygments_lexer": "ipython3",
   "version": "3.6.3"
  }
 },
 "nbformat": 4,
 "nbformat_minor": 2
}
